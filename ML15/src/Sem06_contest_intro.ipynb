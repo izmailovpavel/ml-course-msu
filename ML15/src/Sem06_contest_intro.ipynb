{
 "cells": [
  {
   "cell_type": "markdown",
   "metadata": {},
   "source": [
    "# Семинар 6. Знакомство с первым соревнованием"
   ]
  },
  {
   "cell_type": "markdown",
   "metadata": {},
   "source": [
    "## Чтение данных"
   ]
  },
  {
   "cell_type": "code",
   "execution_count": 1,
   "metadata": {
    "collapsed": true
   },
   "outputs": [],
   "source": [
    "import pandas as pd\n",
    "import numpy as np"
   ]
  },
  {
   "cell_type": "code",
   "execution_count": 2,
   "metadata": {
    "collapsed": true
   },
   "outputs": [],
   "source": [
    "train_path = '../Contests/contest1_stackoverflow/train-contest.csv'"
   ]
  },
  {
   "cell_type": "code",
   "execution_count": 3,
   "metadata": {
    "collapsed": false
   },
   "outputs": [
    {
     "name": "stdout",
     "output_type": "stream",
     "text": [
      "['11385967', '07/08/2012 19:23:47', '109676', '04/27/2009 18:56:57', '2382', '81', 'Converting VB.NET Web Form to C# and wiring up events', 'In My VB.NET web page, I have this standard event. Note the \"Handles\" clause on teh event declaration.\\r\\n\\r\\n    Protected Sub Page_Load(ByVal sender As Object, ByVal e As System.EventArgs) Handles Me.Load\\r\\n    End Sub\\r\\n\\r\\nIn my C# web app, I have this:\\r\\n\\r\\n    protected void Page_Load(object sender, System.EventArgs e)\\r\\n    {\\r\\n\\r\\nSince C# doesn\\'t have a \"Handles\" equivalent and from what I\\'ve seen, event handlers are wired up using delegate += syntax, I was looking for this, but I could not foind it in the aspx page, aspx.cs file or the aspx.designer.cs file.\\r\\n\\r\\nIn VB, I would have two drop down lists at the top of  the Code Editor window and I could select any object on the web form or the web form itself and see the possible events for the object. Selecting the event would either take me to the event handler or if it didn\\'t exists, it would create the stub for me.\\r\\n\\r\\nI know that the Properties window in C# (and I think in VB, too) has an Event tab that shows the list of events for the selected object GUI object, but \"Page\" doesn\\'t appear as an object that can be selected.\\r\\n\\r\\n1. Where does C# define the hooking up of the event to the handler? \\r\\n    \\r\\n2.  How do I generate a stub for the Page event handler routine? I know that the handle appears by default, but what if it is deleted or I want to add a Page_initialize code? Is there an easy way to get the stub or do I need to go to the Object Browser for the syntax?\\r\\n\\r\\n', 'c#', '', '', '', '', '', '0']\n",
      "['11351831', '07/05/2012 20:09:03', '1160891', '01/20/2012 15:14:57', '32', '0', 'How to install visual studio 2010 in alternate drive?', \"I'm trying to install VS 2010 on D drive, but when i change the location in the destination field of the installer, it doesn't matter, it still installs it on C. The only thing that went to D was the install log file. Any way around this?\", 'visual-studio-2010', 'installation', '', '', '', '', '0']\n"
     ]
    }
   ],
   "source": [
    "# построчное чтение\n",
    "import csv\n",
    "\n",
    "reader = csv.reader(open(train_path))\n",
    "header = reader.next()\n",
    "print reader.next()\n",
    "print reader.next()"
   ]
  },
  {
   "cell_type": "code",
   "execution_count": 4,
   "metadata": {
    "collapsed": false
   },
   "outputs": [
    {
     "data": {
      "text/html": [
       "<div style=\"max-height:1000px;max-width:1500px;overflow:auto;\">\n",
       "<table border=\"1\" class=\"dataframe\">\n",
       "  <thead>\n",
       "    <tr style=\"text-align: right;\">\n",
       "      <th></th>\n",
       "      <th>PostId</th>\n",
       "      <th>PostCreationDate</th>\n",
       "      <th>OwnerUserId</th>\n",
       "      <th>OwnerCreationDate</th>\n",
       "      <th>ReputationAtPostCreation</th>\n",
       "      <th>OwnerUndeletedAnswerCountAtPostTime</th>\n",
       "      <th>Title</th>\n",
       "      <th>BodyMarkdown</th>\n",
       "      <th>Tag1</th>\n",
       "      <th>Tag2</th>\n",
       "      <th>Tag3</th>\n",
       "      <th>Tag4</th>\n",
       "      <th>Tag5</th>\n",
       "      <th>PostClosedDate</th>\n",
       "      <th>OpenStatus</th>\n",
       "    </tr>\n",
       "  </thead>\n",
       "  <tbody>\n",
       "    <tr>\n",
       "      <th>0</th>\n",
       "      <td>11385967</td>\n",
       "      <td>07/08/2012 19:23:47</td>\n",
       "      <td>109676</td>\n",
       "      <td>04/27/2009 18:56:57</td>\n",
       "      <td>2382</td>\n",
       "      <td>81</td>\n",
       "      <td>Converting VB.NET Web Form to C# and wiring up...</td>\n",
       "      <td>In My VB.NET web page, I have this standard ev...</td>\n",
       "      <td>c#</td>\n",
       "      <td>NaN</td>\n",
       "      <td>NaN</td>\n",
       "      <td>NaN</td>\n",
       "      <td>NaN</td>\n",
       "      <td>NaN</td>\n",
       "      <td>0</td>\n",
       "    </tr>\n",
       "    <tr>\n",
       "      <th>1</th>\n",
       "      <td>11351831</td>\n",
       "      <td>07/05/2012 20:09:03</td>\n",
       "      <td>1160891</td>\n",
       "      <td>01/20/2012 15:14:57</td>\n",
       "      <td>32</td>\n",
       "      <td>0</td>\n",
       "      <td>How to install visual studio 2010 in alternate...</td>\n",
       "      <td>I'm trying to install VS 2010 on D drive, but ...</td>\n",
       "      <td>visual-studio-2010</td>\n",
       "      <td>installation</td>\n",
       "      <td>NaN</td>\n",
       "      <td>NaN</td>\n",
       "      <td>NaN</td>\n",
       "      <td>NaN</td>\n",
       "      <td>0</td>\n",
       "    </tr>\n",
       "    <tr>\n",
       "      <th>2</th>\n",
       "      <td>6411162</td>\n",
       "      <td>06/20/2011 12:30:47</td>\n",
       "      <td>706293</td>\n",
       "      <td>04/13/2011 15:02:59</td>\n",
       "      <td>21</td>\n",
       "      <td>2</td>\n",
       "      <td>Advise on resources where to learn IT Infrastr...</td>\n",
       "      <td>My IT knowledge resides mainly in SW developme...</td>\n",
       "      <td>documentation</td>\n",
       "      <td>tutorials</td>\n",
       "      <td>knowledge</td>\n",
       "      <td>NaN</td>\n",
       "      <td>NaN</td>\n",
       "      <td>06/20/2011 23:25:56</td>\n",
       "      <td>1</td>\n",
       "    </tr>\n",
       "    <tr>\n",
       "      <th>3</th>\n",
       "      <td>9962611</td>\n",
       "      <td>04/01/2012 07:16:03</td>\n",
       "      <td>168143</td>\n",
       "      <td>09/03/2009 20:31:24</td>\n",
       "      <td>3052</td>\n",
       "      <td>102</td>\n",
       "      <td>How is my single-threaded Rails app handling c...</td>\n",
       "      <td>I have a single-threaded Rails app running on ...</td>\n",
       "      <td>ruby-on-rails</td>\n",
       "      <td>ruby</td>\n",
       "      <td>concurrency</td>\n",
       "      <td>heroku</td>\n",
       "      <td>rack</td>\n",
       "      <td>NaN</td>\n",
       "      <td>0</td>\n",
       "    </tr>\n",
       "    <tr>\n",
       "      <th>4</th>\n",
       "      <td>11361230</td>\n",
       "      <td>07/06/2012 11:21:17</td>\n",
       "      <td>1047058</td>\n",
       "      <td>11/15/2011 07:34:27</td>\n",
       "      <td>1</td>\n",
       "      <td>0</td>\n",
       "      <td>picturebox not showing anything in wndproc \"ho...</td>\n",
       "      <td>im trying to show printscreen image in picture...</td>\n",
       "      <td>c#</td>\n",
       "      <td>api</td>\n",
       "      <td>picturebox</td>\n",
       "      <td>NaN</td>\n",
       "      <td>NaN</td>\n",
       "      <td>NaN</td>\n",
       "      <td>0</td>\n",
       "    </tr>\n",
       "  </tbody>\n",
       "</table>\n",
       "</div>"
      ],
      "text/plain": [
       "     PostId     PostCreationDate  OwnerUserId    OwnerCreationDate  \\\n",
       "0  11385967  07/08/2012 19:23:47       109676  04/27/2009 18:56:57   \n",
       "1  11351831  07/05/2012 20:09:03      1160891  01/20/2012 15:14:57   \n",
       "2   6411162  06/20/2011 12:30:47       706293  04/13/2011 15:02:59   \n",
       "3   9962611  04/01/2012 07:16:03       168143  09/03/2009 20:31:24   \n",
       "4  11361230  07/06/2012 11:21:17      1047058  11/15/2011 07:34:27   \n",
       "\n",
       "   ReputationAtPostCreation  OwnerUndeletedAnswerCountAtPostTime  \\\n",
       "0                      2382                                   81   \n",
       "1                        32                                    0   \n",
       "2                        21                                    2   \n",
       "3                      3052                                  102   \n",
       "4                         1                                    0   \n",
       "\n",
       "                                               Title  \\\n",
       "0  Converting VB.NET Web Form to C# and wiring up...   \n",
       "1  How to install visual studio 2010 in alternate...   \n",
       "2  Advise on resources where to learn IT Infrastr...   \n",
       "3  How is my single-threaded Rails app handling c...   \n",
       "4  picturebox not showing anything in wndproc \"ho...   \n",
       "\n",
       "                                        BodyMarkdown                Tag1  \\\n",
       "0  In My VB.NET web page, I have this standard ev...                  c#   \n",
       "1  I'm trying to install VS 2010 on D drive, but ...  visual-studio-2010   \n",
       "2  My IT knowledge resides mainly in SW developme...       documentation   \n",
       "3  I have a single-threaded Rails app running on ...       ruby-on-rails   \n",
       "4  im trying to show printscreen image in picture...                  c#   \n",
       "\n",
       "           Tag2         Tag3    Tag4  Tag5       PostClosedDate  OpenStatus  \n",
       "0           NaN          NaN     NaN   NaN                  NaN           0  \n",
       "1  installation          NaN     NaN   NaN                  NaN           0  \n",
       "2     tutorials    knowledge     NaN   NaN  06/20/2011 23:25:56           1  \n",
       "3          ruby  concurrency  heroku  rack                  NaN           0  \n",
       "4           api   picturebox     NaN   NaN                  NaN           0  "
      ]
     },
     "execution_count": 4,
     "metadata": {},
     "output_type": "execute_result"
    }
   ],
   "source": [
    "# а можно все сразу?\n",
    "data = pd.read_csv(train_path)\n",
    "data.head()"
   ]
  },
  {
   "cell_type": "code",
   "execution_count": 5,
   "metadata": {
    "collapsed": false
   },
   "outputs": [
    {
     "name": "stdout",
     "output_type": "stream",
     "text": [
      "0\n",
      "I have a global variable called 'name', when a user clicks on a button a text boxes content is queried and 'name' is set to the contents then the name gets printed in a different jquery page.\r\n",
      "\r\n",
      "My problem is name is never printed as the name it was set to, it's always printed as what it was initially set to instead.\r\n",
      "\r\n",
      "Here's my callback function:\r\n",
      "\r\n",
      "\t\t<script type=\"text/javascript\">\r\n",
      "\t\t\t$(\"#finalize\").click(function(e)\r\n",
      "\t\t\t{\r\n",
      "\t\t\t\tg_name = \"BLAH\";\r\n",
      "\t\t\t\treturn true;\r\n",
      "\t\t\t});\r\n",
      "\t\t</script>\r\n",
      "\r\n",
      "For simplicity I've set the name to just be 'BLAH' on the click.\r\n",
      "\r\n",
      "g_name is declared globally (i.e. outside the function scope).\r\n",
      "\r\n",
      "In the other jquery page I have:\r\n",
      "\r\n",
      "    document.write('<label for=\"testname\">Name:</label>');\r\n",
      "    \t\t\t\tdocument.write('<input type=\"text\" name=\"testname\" id=\"testname\" value=\"');\r\n",
      "    \t\t\t\tdocument.write(g_name)\r\n",
      "    \t\t\t\tdocument.write('\"/>');\r\n",
      "\r\n",
      "And g_name is always shown as something else, whatever g_name was initially initilized to.\r\n",
      "\r\n",
      "The button whose click callback sets the global variable also transitions the pages if that makes a difference...\n"
     ]
    }
   ],
   "source": [
    "print data.OpenStatus[10]\n",
    "print data.BodyMarkdown[10]"
   ]
  },
  {
   "cell_type": "code",
   "execution_count": 6,
   "metadata": {
    "collapsed": false
   },
   "outputs": [
    {
     "name": "stdout",
     "output_type": "stream",
     "text": [
      "1\n",
      "My IT knowledge resides mainly in SW development. I have just some basic know how about networks.\r\n",
      "\r\n",
      "On the net I tried to get information and read books in order to better understand the overall IT infrastrcuture, but all the sources I found are too generic or, mainly, too detailed in just one aspect, making me lost.\r\n",
      "\r\n",
      "Could anyone suggest some books or web resources as good compromise in details?\r\n",
      "My goal would be able to understand the network issues and security threats when, for example, two remote system have to be setup and put in connection each other. Considering this scenario there are several aspects to consider: firewalls, intranet/internet interconnections, certificates for httpS, etc.\r\n",
      "\r\n",
      "The argument is quite wide, therefore I was looking for something that might help to start to understand this subject without going too deep in details (Computer Networks from A.Tanenbaum is a wonderful milestone, but way too specific for my scope).\r\n",
      "\r\n",
      "Thanks\n"
     ]
    }
   ],
   "source": [
    "print data.OpenStatus[2]\n",
    "print data.BodyMarkdown[2]"
   ]
  },
  {
   "cell_type": "code",
   "execution_count": 7,
   "metadata": {
    "collapsed": false
   },
   "outputs": [
    {
     "data": {
      "text/plain": [
       "0    0\n",
       "1    0\n",
       "2    1\n",
       "3    0\n",
       "4    0\n",
       "5    0\n",
       "6    0\n",
       "7    1\n",
       "8    0\n",
       "9    1\n",
       "Name: OpenStatus, dtype: int64"
      ]
     },
     "execution_count": 7,
     "metadata": {},
     "output_type": "execute_result"
    }
   ],
   "source": [
    "data.OpenStatus[:10]"
   ]
  },
  {
   "cell_type": "code",
   "execution_count": 8,
   "metadata": {
    "collapsed": false
   },
   "outputs": [
    {
     "data": {
      "text/plain": [
       "1    50022\n",
       "0    49978\n",
       "dtype: int64"
      ]
     },
     "execution_count": 8,
     "metadata": {},
     "output_type": "execute_result"
    }
   ],
   "source": [
    "data.OpenStatus.value_counts()"
   ]
  },
  {
   "cell_type": "markdown",
   "metadata": {},
   "source": [
    "## Простые методы"
   ]
  },
  {
   "cell_type": "code",
   "execution_count": 9,
   "metadata": {
    "collapsed": true
   },
   "outputs": [],
   "source": [
    "data['TextLength'] = data.BodyMarkdown.apply(lambda x: len(x.split()))\n",
    "data['HeaderLength'] = data.Title.apply(lambda x: len(x.split()))\n",
    "data['BraceCount'] = data.Title.apply(lambda x: x.count('{'))"
   ]
  },
  {
   "cell_type": "code",
   "execution_count": 10,
   "metadata": {
    "collapsed": true
   },
   "outputs": [],
   "source": [
    "data_train = data.iloc[:70000, :]\n",
    "data_test = data.iloc[70000:, :]"
   ]
  },
  {
   "cell_type": "code",
   "execution_count": 11,
   "metadata": {
    "collapsed": true
   },
   "outputs": [],
   "source": [
    "feature_set = ['ReputationAtPostCreation', 'TextLength',\n",
    "               'HeaderLength', 'BraceCount']\n",
    "X_train = data_train[feature_set]\n",
    "X_test = data_test[feature_set]\n",
    "y_train = data_train.OpenStatus\n",
    "y_test = data_test.OpenStatus"
   ]
  },
  {
   "cell_type": "code",
   "execution_count": 12,
   "metadata": {
    "collapsed": false
   },
   "outputs": [
    {
     "name": "stdout",
     "output_type": "stream",
     "text": [
      "0.629296586187\n"
     ]
    },
    {
     "name": "stderr",
     "output_type": "stream",
     "text": [
      "/usr/local/lib/python2.7/site-packages/sklearn/utils/validation.py:332: UserWarning: StandardScaler assumes floating point values as input, got int64\n",
      "  \"got %s\" % (estimator, X.dtype))\n"
     ]
    }
   ],
   "source": [
    "from sklearn.neighbors import KNeighborsClassifier\n",
    "from sklearn.metrics import roc_auc_score\n",
    "from sklearn.preprocessing import StandardScaler\n",
    "\n",
    "scaler = StandardScaler()\n",
    "X_train = scaler.fit_transform(X_train)\n",
    "X_test = scaler.transform(X_test)\n",
    "\n",
    "clf = KNeighborsClassifier(n_neighbors=10)\n",
    "clf.fit(X_train, y_train)\n",
    "print roc_auc_score(y_test, clf.predict_proba(X_test)[:, 1])"
   ]
  },
  {
   "cell_type": "code",
   "execution_count": 13,
   "metadata": {
    "collapsed": false
   },
   "outputs": [
    {
     "name": "stdout",
     "output_type": "stream",
     "text": [
      "0.609499115457\n"
     ]
    }
   ],
   "source": [
    "from sklearn.ensemble import RandomForestClassifier\n",
    "\n",
    "clf = RandomForestClassifier(n_estimators=100)\n",
    "clf.fit(X_train, y_train)\n",
    "print roc_auc_score(y_test, clf.predict_proba(X_test)[:, 1])"
   ]
  },
  {
   "cell_type": "markdown",
   "metadata": {},
   "source": [
    "## Bag-of-words"
   ]
  },
  {
   "cell_type": "code",
   "execution_count": 14,
   "metadata": {
    "collapsed": true
   },
   "outputs": [],
   "source": [
    "from sklearn.feature_extraction.text import TfidfVectorizer"
   ]
  },
  {
   "cell_type": "code",
   "execution_count": 15,
   "metadata": {
    "collapsed": true
   },
   "outputs": [],
   "source": [
    "?TfidfVectorizer"
   ]
  },
  {
   "cell_type": "code",
   "execution_count": 16,
   "metadata": {
    "collapsed": false
   },
   "outputs": [
    {
     "name": "stderr",
     "output_type": "stream",
     "text": [
      "/usr/local/lib/python2.7/site-packages/numpy/core/fromnumeric.py:2507: VisibleDeprecationWarning: `rank` is deprecated; use the `ndim` attribute or function instead. To find the rank of a matrix see `numpy.linalg.matrix_rank`.\n",
      "  VisibleDeprecationWarning)\n"
     ]
    }
   ],
   "source": [
    "vect = TfidfVectorizer(min_df=10)\n",
    "X_train_tfidf = vect.fit_transform(data_train.BodyMarkdown)\n",
    "X_test_tfidf = vect.transform(data_test.BodyMarkdown)"
   ]
  },
  {
   "cell_type": "code",
   "execution_count": 17,
   "metadata": {
    "collapsed": false
   },
   "outputs": [
    {
     "data": {
      "text/plain": [
       "(70000, 15041)"
      ]
     },
     "execution_count": 17,
     "metadata": {},
     "output_type": "execute_result"
    }
   ],
   "source": [
    "X_train_tfidf.shape"
   ]
  },
  {
   "cell_type": "code",
   "execution_count": 18,
   "metadata": {
    "collapsed": false
   },
   "outputs": [
    {
     "data": {
      "text/plain": [
       "scipy.sparse.csr.csr_matrix"
      ]
     },
     "execution_count": 18,
     "metadata": {},
     "output_type": "execute_result"
    }
   ],
   "source": [
    "type(X_train_tfidf)"
   ]
  },
  {
   "cell_type": "code",
   "execution_count": 19,
   "metadata": {
    "collapsed": false
   },
   "outputs": [],
   "source": [
    "import scipy.sparse as sps\n",
    "X_train_2 = sps.hstack((X_train, X_train_tfidf))\n",
    "X_test_2 = sps.hstack((X_test, X_test_tfidf))"
   ]
  },
  {
   "cell_type": "code",
   "execution_count": 20,
   "metadata": {
    "collapsed": true
   },
   "outputs": [],
   "source": [
    "hashes = np.random.normal(size=(X_train_2.shape[1], 50))\n",
    "X_train_hashed = X_train_2.dot(hashes)\n",
    "X_test_hashed = X_test_2.dot(hashes)"
   ]
  },
  {
   "cell_type": "code",
   "execution_count": 21,
   "metadata": {
    "collapsed": false
   },
   "outputs": [
    {
     "data": {
      "text/plain": [
       "(70000, 50)"
      ]
     },
     "execution_count": 21,
     "metadata": {},
     "output_type": "execute_result"
    }
   ],
   "source": [
    "X_train_hashed.shape"
   ]
  },
  {
   "cell_type": "code",
   "execution_count": 22,
   "metadata": {
    "collapsed": false
   },
   "outputs": [
    {
     "name": "stdout",
     "output_type": "stream",
     "text": [
      "0.626947409471\n"
     ]
    }
   ],
   "source": [
    "scaler = StandardScaler()\n",
    "X_train_hashed = scaler.fit_transform(X_train_hashed)\n",
    "X_test_hashed = scaler.transform(X_test_hashed)\n",
    "\n",
    "clf = KNeighborsClassifier(n_neighbors=10)\n",
    "clf.fit(X_train_hashed, y_train)\n",
    "print roc_auc_score(y_test, clf.predict_proba(X_test_hashed)[:, 1])"
   ]
  },
  {
   "cell_type": "code",
   "execution_count": null,
   "metadata": {
    "collapsed": true
   },
   "outputs": [],
   "source": []
  },
  {
   "cell_type": "markdown",
   "metadata": {},
   "source": [
    "#### спойлер: линейные модели лучше"
   ]
  },
  {
   "cell_type": "code",
   "execution_count": 23,
   "metadata": {
    "collapsed": false
   },
   "outputs": [
    {
     "name": "stdout",
     "output_type": "stream",
     "text": [
      "0.812891943898\n"
     ]
    }
   ],
   "source": [
    "from sklearn.linear_model import LogisticRegression\n",
    "clf_linear = LogisticRegression()\n",
    "clf_linear.fit(X_train_2, y_train)\n",
    "print roc_auc_score(y_test, clf_linear.predict_proba(X_test_2)[:, 1])"
   ]
  },
  {
   "cell_type": "markdown",
   "metadata": {},
   "source": [
    "#### но мы потратили время не зря!"
   ]
  },
  {
   "cell_type": "code",
   "execution_count": 24,
   "metadata": {
    "collapsed": false
   },
   "outputs": [
    {
     "name": "stdout",
     "output_type": "stream",
     "text": [
      "0.0 0.812891943898\n",
      "0.1 0.814257294753\n",
      "0.2 0.813726329544\n",
      "0.3 0.810295746826\n",
      "0.4 0.802514720066\n",
      "0.5 0.788581388891\n",
      "0.6 0.76683198646\n",
      "0.7 0.737211268251\n",
      "0.8 0.702038319824\n",
      "0.9 0.666968711546\n",
      "1.0 0.626947409471\n"
     ]
    }
   ],
   "source": [
    "for alpha in np.arange(0, 1.001, 0.1):\n",
    "    print alpha, roc_auc_score(y_test,\n",
    "                                alpha * clf.predict_proba(X_test_hashed)[:, 1] + \n",
    "                                (1 - alpha) * clf_linear.predict_proba(X_test_2)[:, 1])"
   ]
  }
 ],
 "metadata": {
  "kernelspec": {
   "display_name": "Python 2",
   "language": "python",
   "name": "python2"
  },
  "language_info": {
   "codemirror_mode": {
    "name": "ipython",
    "version": 2
   },
   "file_extension": ".py",
   "mimetype": "text/x-python",
   "name": "python",
   "nbconvert_exporter": "python",
   "pygments_lexer": "ipython2",
   "version": "2.7.10"
  }
 },
 "nbformat": 4,
 "nbformat_minor": 0
}
