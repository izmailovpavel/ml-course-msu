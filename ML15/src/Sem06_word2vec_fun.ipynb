{
 "cells": [
  {
   "cell_type": "markdown",
   "metadata": {},
   "source": [
    "# Семинар 6. Практика. word2vec"
   ]
  },
  {
   "cell_type": "markdown",
   "metadata": {},
   "source": [
    "## Загрузка и обработка английской Википедии"
   ]
  },
  {
   "cell_type": "code",
   "execution_count": null,
   "metadata": {
    "collapsed": false
   },
   "outputs": [],
   "source": [
    "!wget https://dumps.wikimedia.org/enwiki/latest/enwiki-latest-pages-articles.xml.bz2"
   ]
  },
  {
   "cell_type": "code",
   "execution_count": null,
   "metadata": {
    "collapsed": true
   },
   "outputs": [],
   "source": [
    "from gensim.corpora import WikiCorpus"
   ]
  },
  {
   "cell_type": "code",
   "execution_count": null,
   "metadata": {
    "collapsed": false
   },
   "outputs": [],
   "source": [
    "wiki = WikiCorpus('enwiki-latest-pages-articles.xml.bz2', lemmatize=False, dictionary={})\n",
    "with open('enwiki.txt', 'w') as fout:\n",
    "    for text in wiki.get_texts():\n",
    "        fout.write(' '.join(text) + \"\\n\")"
   ]
  },
  {
   "cell_type": "markdown",
   "metadata": {},
   "source": [
    "## Обучение word2vec"
   ]
  },
  {
   "cell_type": "code",
   "execution_count": 2,
   "metadata": {
    "collapsed": true
   },
   "outputs": [],
   "source": [
    "from gensim.models import Word2Vec\n",
    "from gensim.models.word2vec import LineSentence"
   ]
  },
  {
   "cell_type": "code",
   "execution_count": null,
   "metadata": {
    "collapsed": true
   },
   "outputs": [],
   "source": [
    "model = Word2Vec(LineSentence('enwiki.txt'), size=100, \n",
    "                 window=5, min_count=5, workers=15)\n",
    "model.save('w2v.model')"
   ]
  },
  {
   "cell_type": "markdown",
   "metadata": {},
   "source": [
    "## Применение word2vec"
   ]
  },
  {
   "cell_type": "code",
   "execution_count": 3,
   "metadata": {
    "collapsed": false
   },
   "outputs": [],
   "source": [
    "model = Word2Vec.load('w2v.model')"
   ]
  },
  {
   "cell_type": "code",
   "execution_count": 4,
   "metadata": {
    "collapsed": false
   },
   "outputs": [
    {
     "data": {
      "text/plain": [
       "[(u'ukraine', 0.8753698468208313),\n",
       " (u'belarus', 0.8718127012252808),\n",
       " (u'moscow', 0.8176974654197693),\n",
       " (u'kazakhstan', 0.8090739846229553),\n",
       " (u'vladivostok', 0.7831802368164062),\n",
       " (u'bulgaria', 0.767006516456604),\n",
       " (u'latvia', 0.7625951766967773),\n",
       " (u'kazan', 0.7582930326461792),\n",
       " (u'cheboksary', 0.7560439705848694),\n",
       " (u'ussr', 0.7550057172775269)]"
      ]
     },
     "execution_count": 4,
     "metadata": {},
     "output_type": "execute_result"
    }
   ],
   "source": [
    "model.most_similar('russia')"
   ]
  },
  {
   "cell_type": "code",
   "execution_count": 5,
   "metadata": {
    "collapsed": false,
    "scrolled": true
   },
   "outputs": [
    {
     "data": {
      "text/plain": [
       "[(u'vodka', 0.6797515749931335),\n",
       " (u'bottled', 0.607435941696167),\n",
       " (u'vodkas', 0.6069172024726868),\n",
       " (u'coffee', 0.6003361940383911),\n",
       " (u'yogurt', 0.599839448928833),\n",
       " (u'stolichnaya', 0.5978773832321167),\n",
       " (u'confectionery', 0.5968090295791626),\n",
       " (u'confectionary', 0.5953530073165894),\n",
       " (u'whisky', 0.589104950428009),\n",
       " (u'imfl', 0.5887426137924194)]"
      ]
     },
     "execution_count": 5,
     "metadata": {},
     "output_type": "execute_result"
    }
   ],
   "source": [
    "model.most_similar(positive=['beer', 'russia'], negative=['germany'])"
   ]
  },
  {
   "cell_type": "code",
   "execution_count": 6,
   "metadata": {
    "collapsed": false
   },
   "outputs": [
    {
     "data": {
      "text/plain": [
       "[(u'dingo', 0.6411809921264648),\n",
       " (u'bunyip', 0.6087071895599365),\n",
       " (u'kangaroo', 0.6049854159355164),\n",
       " (u'snakeskin', 0.5888737440109253),\n",
       " (u'wallaby', 0.5884886980056763),\n",
       " (u'tingha', 0.5857841372489929),\n",
       " (u'wombat', 0.5801364183425903),\n",
       " (u'tanberry', 0.5745109915733337),\n",
       " (u'yabba', 0.5736885070800781),\n",
       " (u'goanna', 0.5726725459098816)]"
      ]
     },
     "execution_count": 6,
     "metadata": {},
     "output_type": "execute_result"
    }
   ],
   "source": [
    "model.most_similar(positive=['bear', 'australia'], negative=['russia'])"
   ]
  },
  {
   "cell_type": "code",
   "execution_count": 7,
   "metadata": {
    "collapsed": false
   },
   "outputs": [
    {
     "data": {
      "text/plain": [
       "[(u'moscow', 0.7389352321624756),\n",
       " (u'chuvashia', 0.705657958984375),\n",
       " (u'vladivostok', 0.7014917135238647),\n",
       " (u'ukraine', 0.6889393329620361),\n",
       " (u'kiev', 0.6869717836380005),\n",
       " (u'tatarstan', 0.6791071891784668),\n",
       " (u'yalta', 0.6728818416595459),\n",
       " (u'volga', 0.6693387627601624),\n",
       " (u'sakhalin', 0.6691779494285583),\n",
       " (u'crimea', 0.6684236526489258)]"
      ]
     },
     "execution_count": 7,
     "metadata": {},
     "output_type": "execute_result"
    }
   ],
   "source": [
    "model.most_similar(positive=['tasmania', 'russia'], negative=['australia'])"
   ]
  },
  {
   "cell_type": "code",
   "execution_count": 8,
   "metadata": {
    "collapsed": false
   },
   "outputs": [
    {
     "data": {
      "text/plain": [
       "[(u'transnistria', 0.8000823259353638),\n",
       " (u'abkhazia', 0.7946928143501282),\n",
       " (u'assr', 0.7895946502685547),\n",
       " (u'ukraine', 0.7745662927627563),\n",
       " (u'crimean', 0.7699776887893677),\n",
       " (u'transcaucasian', 0.7675653696060181),\n",
       " (u'adygea', 0.7675461173057556),\n",
       " (u'khakassia', 0.7656391859054565),\n",
       " (u'zunr', 0.7617122530937195),\n",
       " (u'novorossiya', 0.7616255879402161)]"
      ]
     },
     "execution_count": 8,
     "metadata": {},
     "output_type": "execute_result"
    }
   ],
   "source": [
    "model.most_similar('crimea')"
   ]
  },
  {
   "cell_type": "code",
   "execution_count": 9,
   "metadata": {
    "collapsed": false
   },
   "outputs": [
    {
     "data": {
      "text/plain": [
       "[(u'lukashenko', 0.8361338376998901),\n",
       " (u'medoyev', 0.8104326725006104),\n",
       " (u'zhirinovsky', 0.8032687902450562),\n",
       " (u'lavrov', 0.8004411458969116),\n",
       " (u'rogozin', 0.7927875518798828),\n",
       " (u'yanukovych', 0.7901860475540161),\n",
       " (u'khrushchev', 0.7791423201560974),\n",
       " (u'yeltsin', 0.775657057762146),\n",
       " (u'medvedev', 0.7723782062530518),\n",
       " (u'luzhkov', 0.7723530530929565)]"
      ]
     },
     "execution_count": 9,
     "metadata": {},
     "output_type": "execute_result"
    }
   ],
   "source": [
    "model.most_similar('putin')"
   ]
  },
  {
   "cell_type": "code",
   "execution_count": 11,
   "metadata": {
    "collapsed": false
   },
   "outputs": [
    {
     "data": {
      "text/plain": [
       "[(u'nacla', 0.47001680731773376),\n",
       " (u'obama', 0.46658965945243835),\n",
       " (u'publically', 0.46587979793548584),\n",
       " (u'carolinians', 0.4578070640563965),\n",
       " (u'jendayi', 0.4475729465484619),\n",
       " (u'gilpatric', 0.438843309879303),\n",
       " (u'jvna', 0.43711918592453003),\n",
       " (u'barack', 0.43397292494773865),\n",
       " (u'wallbuilders', 0.4308786392211914),\n",
       " (u'lifespring', 0.4275490343570709)]"
      ]
     },
     "execution_count": 11,
     "metadata": {},
     "output_type": "execute_result"
    }
   ],
   "source": [
    "model.most_similar(positive=['putin', 'america'], negative=['russia'])"
   ]
  },
  {
   "cell_type": "code",
   "execution_count": 12,
   "metadata": {
    "collapsed": false
   },
   "outputs": [
    {
     "data": {
      "text/plain": [
       "[(u'sushi', 0.6843389272689819),\n",
       " (u'ch\\u016bhai', 0.6822656989097595),\n",
       " (u'yakisoba', 0.6774731278419495),\n",
       " (u'taiyaki', 0.6738123297691345),\n",
       " (u'shochu', 0.6633704900741577),\n",
       " (u'wagashi', 0.6622669100761414),\n",
       " (u'okonomiyaki', 0.6590017080307007),\n",
       " (u'takoyaki', 0.6534683704376221),\n",
       " (u'izakaya', 0.6529437899589539),\n",
       " (u'sh\\u014dch\\u016b', 0.6503680944442749)]"
      ]
     },
     "execution_count": 12,
     "metadata": {},
     "output_type": "execute_result"
    }
   ],
   "source": [
    "model.most_similar(positive=['beer', 'japan'], negative=['germany'])"
   ]
  },
  {
   "cell_type": "code",
   "execution_count": 13,
   "metadata": {
    "collapsed": false
   },
   "outputs": [
    {
     "data": {
      "text/plain": [
       "[(u'anime', 0.7614869475364685),\n",
       " (u'anibox', 0.6841553449630737),\n",
       " (u'tbs', 0.6816368103027344),\n",
       " (u'dogakobo', 0.6800441145896912),\n",
       " (u'eyeshield', 0.678207278251648),\n",
       " (u'haikyuu', 0.6751998662948608),\n",
       " (u'heroman', 0.6722292900085449),\n",
       " (u'yonkoma', 0.6715021133422852),\n",
       " (u'asahi', 0.671252965927124),\n",
       " (u'noitamina', 0.6705265641212463)]"
      ]
     },
     "execution_count": 13,
     "metadata": {},
     "output_type": "execute_result"
    }
   ],
   "source": [
    "model.most_similar(positive=['cartoon', 'japan'], negative=['russia'])"
   ]
  },
  {
   "cell_type": "code",
   "execution_count": 15,
   "metadata": {
    "collapsed": false
   },
   "outputs": [
    {
     "data": {
      "text/plain": [
       "[(u'caviar', 0.7355554103851318),\n",
       " (u'goat', 0.7018091678619385),\n",
       " (u'twinkies', 0.6921838521957397),\n",
       " (u'chocolate', 0.6851152181625366),\n",
       " (u'paws', 0.6823208332061768),\n",
       " (u'cow', 0.6729243993759155),\n",
       " (u'pumpkin', 0.6725826263427734),\n",
       " (u'dog', 0.6711692810058594),\n",
       " (u'butterscotch', 0.6682884097099304),\n",
       " (u'toast', 0.6658697128295898)]"
      ]
     },
     "execution_count": 15,
     "metadata": {},
     "output_type": "execute_result"
    }
   ],
   "source": [
    "model.most_similar(positive=['vodka', 'bear'])"
   ]
  },
  {
   "cell_type": "code",
   "execution_count": 17,
   "metadata": {
    "collapsed": false
   },
   "outputs": [
    {
     "data": {
      "text/plain": [
       "[(u'lmu', 0.7769111394882202),\n",
       " (u'harvard', 0.7296515703201294),\n",
       " (u't\\xfcbingen', 0.7088342308998108),\n",
       " (u'universit\\xe4t', 0.7038523554801941),\n",
       " (u'heidelberg', 0.6976457834243774),\n",
       " (u'bruegge', 0.6972686052322388),\n",
       " (u'debondt', 0.6966131925582886),\n",
       " (u'nyu', 0.6951839923858643),\n",
       " (u'g\\xf6ttingen', 0.6944622993469238),\n",
       " (u'hohenheim', 0.6899673342704773)]"
      ]
     },
     "execution_count": 17,
     "metadata": {},
     "output_type": "execute_result"
    }
   ],
   "source": [
    "model.most_similar(positive=['stanford', 'mit'])"
   ]
  },
  {
   "cell_type": "code",
   "execution_count": 21,
   "metadata": {
    "collapsed": false
   },
   "outputs": [
    {
     "data": {
      "text/plain": [
       "[(u'dptm', 0.5912380218505859),\n",
       " (u'polytechnical', 0.5907425880432129),\n",
       " (u'khayms', 0.5901229381561279),\n",
       " (u'shotadze', 0.5682058334350586),\n",
       " (u'jagiellonian', 0.5668845176696777),\n",
       " (u'moscow', 0.5661813020706177),\n",
       " (u'lomonosov', 0.564415454864502),\n",
       " (u'kazan', 0.5643229484558105),\n",
       " (u'tsmu', 0.551677405834198),\n",
       " (u'gubkin', 0.5490906238555908)]"
      ]
     },
     "execution_count": 21,
     "metadata": {},
     "output_type": "execute_result"
    }
   ],
   "source": [
    "model.most_similar(positive=['stanford', 'russia'], negative=['america'])"
   ]
  },
  {
   "cell_type": "code",
   "execution_count": 24,
   "metadata": {
    "collapsed": false
   },
   "outputs": [
    {
     "data": {
      "text/plain": [
       "[(u'heidelberg', 0.7912657856941223),\n",
       " (u'hohenheim', 0.7745391130447388),\n",
       " (u't\\xfcbingen', 0.7594316601753235),\n",
       " (u'technische', 0.7581695318222046),\n",
       " (u'erlangen', 0.7514642477035522),\n",
       " (u'g\\xf6ttingen', 0.7509769201278687),\n",
       " (u'ludwigs', 0.7503073215484619),\n",
       " (u'leuphana', 0.7435261011123657),\n",
       " (u'westfaelische', 0.7434866428375244),\n",
       " (u'universit\\xe4t', 0.7402631044387817)]"
      ]
     },
     "execution_count": 24,
     "metadata": {},
     "output_type": "execute_result"
    }
   ],
   "source": [
    "model.most_similar(positive=['lomonosov', 'germany'], negative=['russia'])"
   ]
  },
  {
   "cell_type": "code",
   "execution_count": null,
   "metadata": {
    "collapsed": false
   },
   "outputs": [],
   "source": [
    "model['bear']"
   ]
  }
 ],
 "metadata": {
  "kernelspec": {
   "display_name": "Python 2",
   "language": "python",
   "name": "python2"
  },
  "language_info": {
   "codemirror_mode": {
    "name": "ipython",
    "version": 2
   },
   "file_extension": ".py",
   "mimetype": "text/x-python",
   "name": "python",
   "nbconvert_exporter": "python",
   "pygments_lexer": "ipython2",
   "version": "2.7.10"
  }
 },
 "nbformat": 4,
 "nbformat_minor": 0
}
