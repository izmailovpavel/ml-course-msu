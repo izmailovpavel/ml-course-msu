{
 "cells": [
  {
   "cell_type": "markdown",
   "metadata": {},
   "source": [
    "# Семинар 7. Практика. Метрики качества и оценивание обобщающей способности."
   ]
  },
  {
   "cell_type": "code",
   "execution_count": 1,
   "metadata": {
    "collapsed": true
   },
   "outputs": [],
   "source": [
    "import numpy as np\n",
    "from sklearn import metrics"
   ]
  },
  {
   "cell_type": "markdown",
   "metadata": {},
   "source": [
    "## Метрики качества регрессии"
   ]
  },
  {
   "cell_type": "code",
   "execution_count": 2,
   "metadata": {
    "collapsed": true
   },
   "outputs": [],
   "source": [
    "from sklearn.datasets import load_boston\n",
    "from sklearn.cross_validation import train_test_split\n",
    "from sklearn.preprocessing import scale\n",
    "\n",
    "data = load_boston()\n",
    "\n",
    "data.data = scale(data.data)\n",
    "\n",
    "X_train, X_test, y_train, y_test = train_test_split(data.data, data.target, test_size=0.3)"
   ]
  },
  {
   "cell_type": "code",
   "execution_count": 3,
   "metadata": {
    "collapsed": true
   },
   "outputs": [],
   "source": [
    "from sklearn.linear_model import Ridge"
   ]
  },
  {
   "cell_type": "code",
   "execution_count": 4,
   "metadata": {
    "collapsed": true
   },
   "outputs": [],
   "source": [
    "regr = Ridge()\n",
    "regr.fit(X_train, y_train)\n",
    "pred = regr.predict(X_test)"
   ]
  },
  {
   "cell_type": "code",
   "execution_count": 5,
   "metadata": {
    "collapsed": false
   },
   "outputs": [
    {
     "name": "stdout",
     "output_type": "stream",
     "text": [
      "RMSE: 5.77398733204\n",
      "MAE: 3.62297971635\n",
      "R2: 0.673286579179\n"
     ]
    }
   ],
   "source": [
    "print 'RMSE:', np.sqrt(metrics.mean_squared_error(y_test, pred))\n",
    "print 'MAE:', metrics.mean_absolute_error(y_test, pred)\n",
    "print 'R2:', metrics.r2_score(y_test, pred)"
   ]
  },
  {
   "cell_type": "markdown",
   "metadata": {},
   "source": [
    "#### Как распределена ошибка по объектам?"
   ]
  },
  {
   "cell_type": "code",
   "execution_count": 6,
   "metadata": {
    "collapsed": false
   },
   "outputs": [
    {
     "data": {
      "image/png": "[encoded data removed]",
      "text/plain": [
       "<matplotlib.figure.Figure at 0x1141b2790>"
      ]
     },
     "metadata": {},
     "output_type": "display_data"
    }
   ],
   "source": [
    "import matplotlib.pyplot as plt\n",
    "%matplotlib inline\n",
    "\n",
    "quad_errors = np.power(pred - y_test, 2.0)\n",
    "plt.hist(quad_errors, bins=100)\n",
    "plt.show()"
   ]
  },
  {
   "cell_type": "code",
   "execution_count": 7,
   "metadata": {
    "collapsed": false
   },
   "outputs": [
    {
     "data": {
      "text/plain": [
       "array([ 0.15188824, -0.48772236,  1.01599907, -0.27259857,  0.65914726,\n",
       "       -1.87290529,  1.11749449, -1.1706168 ,  1.66124525,  1.53092646,\n",
       "        0.80657583,  0.20663395, -1.31666121])"
      ]
     },
     "execution_count": 7,
     "metadata": {},
     "output_type": "execute_result"
    }
   ],
   "source": [
    "idx = np.argmax(quad_errors)\n",
    "X_test[idx, :]"
   ]
  },
  {
   "cell_type": "code",
   "execution_count": 8,
   "metadata": {
    "collapsed": false,
    "scrolled": true
   },
   "outputs": [
    {
     "name": "stdout",
     "output_type": "stream",
     "text": [
      "2.25501270405\n"
     ]
    }
   ],
   "source": [
    "print np.min(metrics.pairwise.euclidean_distances(X_train, X_test[idx]))"
   ]
  },
  {
   "cell_type": "code",
   "execution_count": 9,
   "metadata": {
    "collapsed": false
   },
   "outputs": [
    {
     "name": "stdout",
     "output_type": "stream",
     "text": [
      "0.9007185238\n",
      "0.571274851176\n"
     ]
    }
   ],
   "source": [
    "# среднее расстояние от тестового объекта до обучающей выборки\n",
    "print np.min(metrics.pairwise.euclidean_distances(X_train, X_test), axis=0).mean()\n",
    "print np.min(metrics.pairwise.euclidean_distances(X_train, X_test), axis=0).std()"
   ]
  },
  {
   "cell_type": "markdown",
   "metadata": {},
   "source": [
    "Возможно, в обучающей выборке не было объектов, похожих на данный."
   ]
  },
  {
   "cell_type": "markdown",
   "metadata": {},
   "source": [
    "## Метрики качества классификации"
   ]
  },
  {
   "cell_type": "code",
   "execution_count": 10,
   "metadata": {
    "collapsed": true
   },
   "outputs": [],
   "source": [
    "import pandas as pd"
   ]
  },
  {
   "cell_type": "markdown",
   "metadata": {},
   "source": [
    "THE CARAVAN INSURANCE DATA\n",
    "\n",
    "http://kdd.ics.uci.edu/databases/tic/tic.html\n",
    "\n",
    "Задача: предсказать, купит ли человек страховку"
   ]
  },
  {
   "cell_type": "code",
   "execution_count": 11,
   "metadata": {
    "collapsed": false
   },
   "outputs": [
    {
     "data": {
      "text/html": [
       "<div style=\"max-height:1000px;max-width:1500px;overflow:auto;\">\n",
       "<table border=\"1\" class=\"dataframe\">\n",
       "  <thead>\n",
       "    <tr style=\"text-align: right;\">\n",
       "      <th></th>\n",
       "      <th>0</th>\n",
       "      <th>1</th>\n",
       "      <th>2</th>\n",
       "      <th>3</th>\n",
       "      <th>4</th>\n",
       "      <th>5</th>\n",
       "      <th>6</th>\n",
       "      <th>7</th>\n",
       "      <th>8</th>\n",
       "      <th>9</th>\n",
       "      <th>...</th>\n",
       "      <th>76</th>\n",
       "      <th>77</th>\n",
       "      <th>78</th>\n",
       "      <th>79</th>\n",
       "      <th>80</th>\n",
       "      <th>81</th>\n",
       "      <th>82</th>\n",
       "      <th>83</th>\n",
       "      <th>84</th>\n",
       "      <th>85</th>\n",
       "    </tr>\n",
       "  </thead>\n",
       "  <tbody>\n",
       "    <tr>\n",
       "      <th>0</th>\n",
       "      <td>33</td>\n",
       "      <td>1</td>\n",
       "      <td>3</td>\n",
       "      <td>2</td>\n",
       "      <td>8</td>\n",
       "      <td>0</td>\n",
       "      <td>5</td>\n",
       "      <td>1</td>\n",
       "      <td>3</td>\n",
       "      <td>7</td>\n",
       "      <td>...</td>\n",
       "      <td>0</td>\n",
       "      <td>0</td>\n",
       "      <td>0</td>\n",
       "      <td>1</td>\n",
       "      <td>0</td>\n",
       "      <td>0</td>\n",
       "      <td>0</td>\n",
       "      <td>0</td>\n",
       "      <td>0</td>\n",
       "      <td>0</td>\n",
       "    </tr>\n",
       "    <tr>\n",
       "      <th>1</th>\n",
       "      <td>37</td>\n",
       "      <td>1</td>\n",
       "      <td>2</td>\n",
       "      <td>2</td>\n",
       "      <td>8</td>\n",
       "      <td>1</td>\n",
       "      <td>4</td>\n",
       "      <td>1</td>\n",
       "      <td>4</td>\n",
       "      <td>6</td>\n",
       "      <td>...</td>\n",
       "      <td>0</td>\n",
       "      <td>0</td>\n",
       "      <td>0</td>\n",
       "      <td>1</td>\n",
       "      <td>0</td>\n",
       "      <td>0</td>\n",
       "      <td>0</td>\n",
       "      <td>0</td>\n",
       "      <td>0</td>\n",
       "      <td>0</td>\n",
       "    </tr>\n",
       "    <tr>\n",
       "      <th>2</th>\n",
       "      <td>37</td>\n",
       "      <td>1</td>\n",
       "      <td>2</td>\n",
       "      <td>2</td>\n",
       "      <td>8</td>\n",
       "      <td>0</td>\n",
       "      <td>4</td>\n",
       "      <td>2</td>\n",
       "      <td>4</td>\n",
       "      <td>3</td>\n",
       "      <td>...</td>\n",
       "      <td>0</td>\n",
       "      <td>0</td>\n",
       "      <td>0</td>\n",
       "      <td>1</td>\n",
       "      <td>0</td>\n",
       "      <td>0</td>\n",
       "      <td>0</td>\n",
       "      <td>0</td>\n",
       "      <td>0</td>\n",
       "      <td>0</td>\n",
       "    </tr>\n",
       "    <tr>\n",
       "      <th>3</th>\n",
       "      <td>9</td>\n",
       "      <td>1</td>\n",
       "      <td>3</td>\n",
       "      <td>3</td>\n",
       "      <td>3</td>\n",
       "      <td>2</td>\n",
       "      <td>3</td>\n",
       "      <td>2</td>\n",
       "      <td>4</td>\n",
       "      <td>5</td>\n",
       "      <td>...</td>\n",
       "      <td>0</td>\n",
       "      <td>0</td>\n",
       "      <td>0</td>\n",
       "      <td>1</td>\n",
       "      <td>0</td>\n",
       "      <td>0</td>\n",
       "      <td>0</td>\n",
       "      <td>0</td>\n",
       "      <td>0</td>\n",
       "      <td>0</td>\n",
       "    </tr>\n",
       "    <tr>\n",
       "      <th>4</th>\n",
       "      <td>40</td>\n",
       "      <td>1</td>\n",
       "      <td>4</td>\n",
       "      <td>2</td>\n",
       "      <td>10</td>\n",
       "      <td>1</td>\n",
       "      <td>4</td>\n",
       "      <td>1</td>\n",
       "      <td>4</td>\n",
       "      <td>7</td>\n",
       "      <td>...</td>\n",
       "      <td>0</td>\n",
       "      <td>0</td>\n",
       "      <td>0</td>\n",
       "      <td>1</td>\n",
       "      <td>0</td>\n",
       "      <td>0</td>\n",
       "      <td>0</td>\n",
       "      <td>0</td>\n",
       "      <td>0</td>\n",
       "      <td>0</td>\n",
       "    </tr>\n",
       "  </tbody>\n",
       "</table>\n",
       "<p>5 rows × 86 columns</p>\n",
       "</div>"
      ],
      "text/plain": [
       "   0   1   2   3   4   5   6   7   8   9  ...  76  77  78  79  80  81  82  83  \\\n",
       "0  33   1   3   2   8   0   5   1   3   7 ...   0   0   0   1   0   0   0   0   \n",
       "1  37   1   2   2   8   1   4   1   4   6 ...   0   0   0   1   0   0   0   0   \n",
       "2  37   1   2   2   8   0   4   2   4   3 ...   0   0   0   1   0   0   0   0   \n",
       "3   9   1   3   3   3   2   3   2   4   5 ...   0   0   0   1   0   0   0   0   \n",
       "4  40   1   4   2  10   1   4   1   4   7 ...   0   0   0   1   0   0   0   0   \n",
       "\n",
       "   84  85  \n",
       "0   0   0  \n",
       "1   0   0  \n",
       "2   0   0  \n",
       "3   0   0  \n",
       "4   0   0  \n",
       "\n",
       "[5 rows x 86 columns]"
      ]
     },
     "execution_count": 11,
     "metadata": {},
     "output_type": "execute_result"
    }
   ],
   "source": [
    "data = pd.read_csv('http://kdd.ics.uci.edu/databases/tic/ticdata2000.txt', sep='\\t', header=None)\n",
    "data.head()"
   ]
  },
  {
   "cell_type": "markdown",
   "metadata": {},
   "source": [
    "Данные несбалансированные — мало кто покупает страховку"
   ]
  },
  {
   "cell_type": "code",
   "execution_count": 12,
   "metadata": {
    "collapsed": false
   },
   "outputs": [
    {
     "data": {
      "text/plain": [
       "(5822, 86)"
      ]
     },
     "execution_count": 12,
     "metadata": {},
     "output_type": "execute_result"
    }
   ],
   "source": [
    "data.shape"
   ]
  },
  {
   "cell_type": "code",
   "execution_count": 13,
   "metadata": {
    "collapsed": false
   },
   "outputs": [
    {
     "data": {
      "text/plain": [
       "0    5474\n",
       "1     348\n",
       "dtype: int64"
      ]
     },
     "execution_count": 13,
     "metadata": {},
     "output_type": "execute_result"
    }
   ],
   "source": [
    "data.iloc[:, -1].value_counts()"
   ]
  },
  {
   "cell_type": "code",
   "execution_count": 14,
   "metadata": {
    "collapsed": false
   },
   "outputs": [],
   "source": [
    "X_train, X_test, y_train, y_test = train_test_split(scale(data.iloc[:, 1:-1].astype(np.float)),\n",
    "                                                    data.iloc[:, -1],\n",
    "                                                    test_size=0.3)"
   ]
  },
  {
   "cell_type": "code",
   "execution_count": 15,
   "metadata": {
    "collapsed": false
   },
   "outputs": [
    {
     "name": "stdout",
     "output_type": "stream",
     "text": [
      "positive class ration in train: 0.0606134969325\n",
      "positive class ration in test: 0.0578133943904\n"
     ]
    }
   ],
   "source": [
    "print 'positive class ration in train:', np.mean(y_train)\n",
    "print 'positive class ration in test:', np.mean(y_test)"
   ]
  },
  {
   "cell_type": "code",
   "execution_count": 16,
   "metadata": {
    "collapsed": false
   },
   "outputs": [],
   "source": [
    "from sklearn.linear_model import LogisticRegression\n",
    "clf = LogisticRegression()\n",
    "clf.fit(X_train, y_train)\n",
    "pred = clf.predict_proba(X_test)[:, 1]"
   ]
  },
  {
   "cell_type": "code",
   "execution_count": 17,
   "metadata": {
    "collapsed": false
   },
   "outputs": [
    {
     "name": "stdout",
     "output_type": "stream",
     "text": [
      "[[ 0.99145441  0.00854559]\n",
      " [ 0.94158018  0.05841982]\n",
      " [ 0.97874106  0.02125894]\n",
      " ..., \n",
      " [ 0.92617085  0.07382915]\n",
      " [ 0.97704798  0.02295202]\n",
      " [ 0.99768942  0.00231058]]\n"
     ]
    }
   ],
   "source": [
    "print clf.predict_proba(X_test)"
   ]
  },
  {
   "cell_type": "code",
   "execution_count": 27,
   "metadata": {
    "collapsed": false
   },
   "outputs": [
    {
     "name": "stdout",
     "output_type": "stream",
     "text": [
      "Accuracy: 0.940469376073\n",
      "Accuracy of constant classifier: 0.94218660561\n"
     ]
    }
   ],
   "source": [
    "pred_binary = (pred > 0.5).astype(np.int)\n",
    "print 'Accuracy:', metrics.accuracy_score(y_test, pred_binary)\n",
    "print 'Accuracy of constant classifier:', metrics.accuracy_score(y_test, np.zeros(y_test.shape))"
   ]
  },
  {
   "cell_type": "code",
   "execution_count": 28,
   "metadata": {
    "collapsed": false
   },
   "outputs": [
    {
     "name": "stdout",
     "output_type": "stream",
     "text": [
      "Precision: 0.2\n",
      "Recall: 0.00990099009901\n",
      "F1: 0.0188679245283\n"
     ]
    }
   ],
   "source": [
    "print 'Precision:', metrics.precision_score(y_test, pred_binary)\n",
    "print 'Recall:', metrics.recall_score(y_test, pred_binary)\n",
    "print 'F1:', metrics.f1_score(y_test, pred_binary)"
   ]
  },
  {
   "cell_type": "code",
   "execution_count": 20,
   "metadata": {
    "collapsed": false
   },
   "outputs": [
    {
     "name": "stdout",
     "output_type": "stream",
     "text": [
      "AUC-ROC: 0.744475055039\n",
      "AUC-PR: 0.165744655085\n"
     ]
    }
   ],
   "source": [
    "print 'AUC-ROC:', metrics.roc_auc_score(y_test, pred)\n",
    "print 'AUC-PR:', metrics.average_precision_score(y_test, pred)"
   ]
  },
  {
   "cell_type": "code",
   "execution_count": 21,
   "metadata": {
    "collapsed": false
   },
   "outputs": [
    {
     "data": {
      "image/png": "[encoded data removed]",
      "text/plain": [
       "<matplotlib.figure.Figure at 0x114ff99d0>"
      ]
     },
     "metadata": {},
     "output_type": "display_data"
    }
   ],
   "source": [
    "fpr, tpr, thresholds = metrics.roc_curve(y_test, pred)\n",
    "plt.plot(fpr, tpr)\n",
    "plt.xlabel('FPR')\n",
    "plt.ylabel('TPR')\n",
    "plt.show()"
   ]
  },
  {
   "cell_type": "code",
   "execution_count": 22,
   "metadata": {
    "collapsed": false
   },
   "outputs": [
    {
     "data": {
      "image/png": "[encoded data removed]",
      "text/plain": [
       "<matplotlib.figure.Figure at 0x11503bfd0>"
      ]
     },
     "metadata": {},
     "output_type": "display_data"
    }
   ],
   "source": [
    "precision, recall, thresholds = metrics.precision_recall_curve(y_test, pred)\n",
    "plt.plot(recall, precision)\n",
    "plt.xlabel('recall')\n",
    "plt.ylabel('precision')\n",
    "plt.show()"
   ]
  },
  {
   "cell_type": "code",
   "execution_count": 29,
   "metadata": {
    "collapsed": false
   },
   "outputs": [
    {
     "name": "stdout",
     "output_type": "stream",
     "text": [
      "             precision    recall  f1-score   support\n",
      "\n",
      "          0       0.94      1.00      0.97      1646\n",
      "          1       0.20      0.01      0.02       101\n",
      "\n",
      "avg / total       0.90      0.94      0.91      1747\n",
      "\n"
     ]
    }
   ],
   "source": [
    "print metrics.classification_report(y_test, pred_binary)"
   ]
  },
  {
   "cell_type": "markdown",
   "metadata": {},
   "source": [
    "#### Попробуем RandomForest"
   ]
  },
  {
   "cell_type": "code",
   "execution_count": 30,
   "metadata": {
    "collapsed": false
   },
   "outputs": [],
   "source": [
    "from sklearn.ensemble import RandomForestClassifier\n",
    "clf = RandomForestClassifier(n_estimators=1000)\n",
    "clf.fit(X_train, y_train)\n",
    "pred = clf.predict_proba(X_test)[:, 1]"
   ]
  },
  {
   "cell_type": "code",
   "execution_count": 31,
   "metadata": {
    "collapsed": false
   },
   "outputs": [
    {
     "name": "stdout",
     "output_type": "stream",
     "text": [
      "Accuracy: 0.925586720092\n",
      "Accuracy of constant classifier: 0.94218660561\n",
      "Precision: 0.162790697674\n",
      "Recall: 0.0693069306931\n",
      "F1: 0.0972222222222\n",
      "AUC-ROC: 0.726161832465\n",
      "AUC-PR: 0.125353187241\n"
     ]
    }
   ],
   "source": [
    "pred_binary = (pred > 0.5).astype(np.int)\n",
    "print 'Accuracy:', metrics.accuracy_score(y_test, pred_binary)\n",
    "print 'Accuracy of constant classifier:', metrics.accuracy_score(y_test, np.zeros(y_test.shape))\n",
    "print 'Precision:', metrics.precision_score(y_test, pred_binary)\n",
    "print 'Recall:', metrics.recall_score(y_test, pred_binary)\n",
    "print 'F1:', metrics.f1_score(y_test, pred_binary)\n",
    "print 'AUC-ROC:', metrics.roc_auc_score(y_test, pred)\n",
    "print 'AUC-PR:', metrics.average_precision_score(y_test, pred)"
   ]
  },
  {
   "cell_type": "markdown",
   "metadata": {},
   "source": [
    "(Random Forest не всегда лучше линейной модели)"
   ]
  },
  {
   "cell_type": "code",
   "execution_count": 32,
   "metadata": {
    "collapsed": false
   },
   "outputs": [
    {
     "data": {
      "image/png": "[encoded data removed]",
      "text/plain": [
       "<matplotlib.figure.Figure at 0x114e38ad0>"
      ]
     },
     "metadata": {},
     "output_type": "display_data"
    }
   ],
   "source": [
    "fpr, tpr, thresholds = metrics.roc_curve(y_test, pred)\n",
    "plt.plot(fpr, tpr)\n",
    "plt.xlabel('FPR')\n",
    "plt.ylabel('TPR')\n",
    "plt.show()"
   ]
  },
  {
   "cell_type": "code",
   "execution_count": 33,
   "metadata": {
    "collapsed": false
   },
   "outputs": [
    {
     "data": {
      "image/png": "[encoded data removed]",
      "text/plain": [
       "<matplotlib.figure.Figure at 0x110e71cd0>"
      ]
     },
     "metadata": {},
     "output_type": "display_data"
    }
   ],
   "source": [
    "precision, recall, thresholds = metrics.precision_recall_curve(y_test, pred)\n",
    "plt.plot(recall, precision)\n",
    "plt.xlabel('recall')\n",
    "plt.ylabel('precision')\n",
    "plt.show()"
   ]
  },
  {
   "cell_type": "markdown",
   "metadata": {},
   "source": [
    "## Кросс-валидация"
   ]
  },
  {
   "cell_type": "code",
   "execution_count": 34,
   "metadata": {
    "collapsed": true
   },
   "outputs": [],
   "source": [
    "data = load_boston()\n",
    "\n",
    "data.data = scale(data.data)\n",
    "\n",
    "X_train, X_test, y_train, y_test = train_test_split(data.data, data.target, test_size=0.3)"
   ]
  },
  {
   "cell_type": "code",
   "execution_count": 35,
   "metadata": {
    "collapsed": true
   },
   "outputs": [],
   "source": [
    "from sklearn.neighbors import KNeighborsRegressor"
   ]
  },
  {
   "cell_type": "code",
   "execution_count": 36,
   "metadata": {
    "collapsed": false
   },
   "outputs": [
    {
     "name": "stdout",
     "output_type": "stream",
     "text": [
      "1 19.2700657895\n",
      "2 11.8614078128\n",
      "3 12.6754739044\n",
      "4 14.3088354552\n",
      "5 14.5501761164\n",
      "6 16.3034670648\n",
      "7 16.4737281191\n",
      "8 16.7024469054\n",
      "9 17.1385599542\n"
     ]
    }
   ],
   "source": [
    "search_range = np.arange(1, 10)\n",
    "for k in search_range:\n",
    "    regr = KNeighborsRegressor(n_neighbors=k, weights='distance')\n",
    "    regr.fit(X_train, y_train)\n",
    "    pred = regr.predict(X_test)\n",
    "    print k, metrics.mean_squared_error(y_test, pred)"
   ]
  },
  {
   "cell_type": "code",
   "execution_count": 37,
   "metadata": {
    "collapsed": true
   },
   "outputs": [],
   "source": [
    "from sklearn.cross_validation import ShuffleSplit, KFold, cross_val_score"
   ]
  },
  {
   "cell_type": "code",
   "execution_count": 38,
   "metadata": {
    "collapsed": false
   },
   "outputs": [
    {
     "name": "stdout",
     "output_type": "stream",
     "text": [
      "1 [ 27.52197183]\n",
      "2 [ 18.2127791]\n",
      "3 [ 19.49766226]\n",
      "4 [ 18.52643943]\n",
      "5 [ 16.17991066]\n",
      "6 [ 15.9229394]\n",
      "7 [ 16.62312082]\n",
      "8 [ 15.20208773]\n",
      "9 [ 14.88026744]\n"
     ]
    }
   ],
   "source": [
    "cv = ShuffleSplit(X_train.shape[0], n_iter=1, random_state=241, \n",
    "                  test_size=0.2)\n",
    "for k in search_range:\n",
    "    regr = KNeighborsRegressor(n_neighbors=k, weights='distance')\n",
    "    print k, -cross_val_score(regr, X_train, y_train, cv=cv, scoring='mean_squared_error')"
   ]
  },
  {
   "cell_type": "code",
   "execution_count": 39,
   "metadata": {
    "collapsed": false
   },
   "outputs": [],
   "source": [
    "def do_kfold(k):\n",
    "    cv = KFold(X_train.shape[0], n_folds=k, random_state=241)\n",
    "    scores_mean = []\n",
    "    scores_std = []\n",
    "    for k in search_range:\n",
    "        regr = KNeighborsRegressor(n_neighbors=k, weights='distance')\n",
    "        scores = -cross_val_score(regr, X_train, y_train, cv=cv, \n",
    "                                  scoring='mean_squared_error')\n",
    "        scores_mean.append(scores.mean())\n",
    "        scores_std.append(scores.std())\n",
    "        print k, scores.mean(), scores.std(), scores.mean() - scores.std()\n",
    "\n",
    "    x = search_range\n",
    "    scores_mean = np.array(scores_mean)\n",
    "    scores_std = np.array(scores_std)\n",
    "    plt.plot(x, scores_mean)\n",
    "    plt.fill_between(x, scores_mean - scores_std, scores_mean + scores_std, alpha=0.5)\n",
    "    plt.show()"
   ]
  },
  {
   "cell_type": "code",
   "execution_count": 40,
   "metadata": {
    "collapsed": false
   },
   "outputs": [
    {
     "name": "stdout",
     "output_type": "stream",
     "text": [
      "1 28.6803389831 5.54463276836 23.1357062147\n",
      "2 23.6769494697 6.98371538167 16.6932340881\n",
      "3 25.1501145065 6.41868407394 18.7314304326\n",
      "4 25.7908673352 5.62170121114 20.1691661241\n",
      "5 25.9757479139 5.90182338845 20.0739245254\n",
      "6 25.7458446043 5.82748294988 19.9183616544\n",
      "7 25.4841013579 6.33072228964 19.1533790682\n",
      "8 25.6840387321 6.166540918 19.5174978141\n",
      "9 26.336682717 6.53217765529 19.8045050617\n"
     ]
    },
    {
     "data": {
      "image/png": "[encoded data removed]",
      "text/plain": [
       "<matplotlib.figure.Figure at 0x11699df10>"
      ]
     },
     "metadata": {},
     "output_type": "display_data"
    }
   ],
   "source": [
    "do_kfold(2)"
   ]
  },
  {
   "cell_type": "code",
   "execution_count": 41,
   "metadata": {
    "collapsed": false
   },
   "outputs": [
    {
     "name": "stdout",
     "output_type": "stream",
     "text": [
      "1 34.4311307847 15.1074852959 19.3236454888\n",
      "2 27.7648311775 11.812430725 15.9524004524\n",
      "3 27.4434092689 9.38192777825 18.0614814907\n",
      "4 27.3199121857 8.66211638101 18.6577958047\n",
      "5 26.6855474899 10.2111731717 16.4743743182\n",
      "6 26.2649791828 10.9540461966 15.3109329862\n",
      "7 25.6522349921 10.7619657014 14.8902692907\n",
      "8 25.7597960947 10.0989899429 15.6608061517\n",
      "9 25.4458296504 9.73198887569 15.7138407747\n"
     ]
    },
    {
     "data": {
      "image/png": "[encoded data removed]",
      "text/plain": [
       "<matplotlib.figure.Figure at 0x117d0ed10>"
      ]
     },
     "metadata": {},
     "output_type": "display_data"
    }
   ],
   "source": [
    "do_kfold(5)"
   ]
  },
  {
   "cell_type": "code",
   "execution_count": 42,
   "metadata": {
    "collapsed": false
   },
   "outputs": [
    {
     "name": "stdout",
     "output_type": "stream",
     "text": [
      "1 30.5870738095 13.8154736379 16.7716001717\n",
      "2 20.5308987352 9.42202350012 11.108875235\n",
      "3 21.068738697 9.63485091449 11.4338877825\n",
      "4 22.4567281035 10.3851298187 12.0715982848\n",
      "5 23.1938307518 11.1491217466 12.0447090052\n",
      "6 23.535225096 11.4372746621 12.0979504339\n",
      "7 23.4717779867 12.2333359926 11.2384419942\n",
      "8 23.930373692 12.6859892131 11.2443844789\n",
      "9 23.9334730796 12.7016711101 11.2318019695\n"
     ]
    },
    {
     "data": {
      "image/png": "[encoded data removed]",
      "text/plain": [
       "<matplotlib.figure.Figure at 0x10fc814d0>"
      ]
     },
     "metadata": {},
     "output_type": "display_data"
    }
   ],
   "source": [
    "do_kfold(10)"
   ]
  },
  {
   "cell_type": "code",
   "execution_count": 43,
   "metadata": {
    "collapsed": false
   },
   "outputs": [
    {
     "name": "stdout",
     "output_type": "stream",
     "text": [
      "1 30.1563083333 52.4971776142 -22.3408692809\n",
      "2 20.6333306383 39.133591456 -18.5002608177\n",
      "3 19.5040113432 35.4388771579 -15.9348658147\n",
      "4 21.212014897 38.1627764351 -16.9507615381\n",
      "5 21.8667572677 39.0687399155 -17.2019826478\n",
      "6 22.1495189301 39.3284189748 -17.1789000447\n",
      "7 22.3095381123 39.9954654914 -17.6859273791\n",
      "8 22.610090213 40.8895733793 -18.2794831664\n",
      "9 22.3910122414 40.9768663429 -18.5858541015\n"
     ]
    },
    {
     "data": {
      "image/png": "[encoded data removed]",
      "text/plain": [
       "<matplotlib.figure.Figure at 0x117f2f0d0>"
      ]
     },
     "metadata": {},
     "output_type": "display_data"
    }
   ],
   "source": [
    "do_kfold(100)"
   ]
  },
  {
   "cell_type": "markdown",
   "metadata": {},
   "source": [
    "Чем больше фолдов, тем меньше объектов попадает в контроль, тем менее надежно по нему оценивается качество — дисперсия растет"
   ]
  },
  {
   "cell_type": "markdown",
   "metadata": {},
   "source": [
    "### Другой датасет"
   ]
  },
  {
   "cell_type": "code",
   "execution_count": 44,
   "metadata": {
    "collapsed": false
   },
   "outputs": [],
   "source": [
    "data = pd.read_csv('http://kdd.ics.uci.edu/databases/tic/ticdata2000.txt', sep='\\t', header=None)\n",
    "X_train, X_test, y_train, y_test = train_test_split(scale(data.iloc[:, 1:-1].astype(np.float)),\n",
    "                                                    data.iloc[:, -1],\n",
    "                                                    test_size=0.3)"
   ]
  },
  {
   "cell_type": "code",
   "execution_count": 45,
   "metadata": {
    "collapsed": true
   },
   "outputs": [],
   "source": [
    "from sklearn.neighbors import KNeighborsClassifier"
   ]
  },
  {
   "cell_type": "code",
   "execution_count": 46,
   "metadata": {
    "collapsed": false
   },
   "outputs": [
    {
     "name": "stdout",
     "output_type": "stream",
     "text": [
      "5 0.589492799796\n",
      "10 0.658646616541\n",
      "15 0.669083726265\n",
      "20 0.677363960749\n",
      "25 0.69746081305\n",
      "30 0.690814961132\n",
      "35 0.685851280744\n",
      "40 0.689556518415\n",
      "45 0.681381419651\n",
      "50 0.686246336179\n",
      "55 0.689174206703\n",
      "60 0.695259334778\n",
      "65 0.699133426787\n",
      "70 0.704884032114\n"
     ]
    }
   ],
   "source": [
    "search_range = np.arange(5, 71, 5)\n",
    "for k in search_range:\n",
    "    clf = KNeighborsClassifier(n_neighbors=k)\n",
    "    clf.fit(X_train, y_train)\n",
    "    pred = clf.predict_proba(X_test)[:, 1]\n",
    "    print k, metrics.roc_auc_score(y_test, pred)"
   ]
  },
  {
   "cell_type": "code",
   "execution_count": 47,
   "metadata": {
    "collapsed": true
   },
   "outputs": [],
   "source": [
    "from sklearn.cross_validation import StratifiedKFold, StratifiedShuffleSplit"
   ]
  },
  {
   "cell_type": "code",
   "execution_count": 48,
   "metadata": {
    "collapsed": false
   },
   "outputs": [
    {
     "name": "stdout",
     "output_type": "stream",
     "text": [
      "5 [ 0.62692149]\n",
      "10 [ 0.68131969]\n",
      "15 [ 0.68692929]\n",
      "20 [ 0.6956018]\n",
      "25 [ 0.70625315]\n",
      "30 [ 0.70433167]\n",
      "35 [ 0.70849585]\n",
      "40 [ 0.71448974]\n",
      "45 [ 0.70843275]\n",
      "50 [ 0.72253132]\n",
      "55 [ 0.72023127]\n",
      "60 [ 0.70803125]\n",
      "65 [ 0.71177098]\n",
      "70 [ 0.70784197]\n"
     ]
    }
   ],
   "source": [
    "cv = StratifiedShuffleSplit(y_train, n_iter=1, random_state=241, test_size=0.3)\n",
    "for k in search_range:\n",
    "    clf = KNeighborsClassifier(n_neighbors=k)\n",
    "    print k, cross_val_score(clf, X_train, y_train, cv=cv, scoring='roc_auc')"
   ]
  },
  {
   "cell_type": "code",
   "execution_count": 49,
   "metadata": {
    "collapsed": true
   },
   "outputs": [],
   "source": [
    "def do_kfold(k):\n",
    "    cv = StratifiedKFold(y_train, n_folds=k, random_state=241)\n",
    "    scores_mean = []\n",
    "    scores_std = []\n",
    "    for k in search_range:\n",
    "        clf = KNeighborsClassifier(n_neighbors=k)\n",
    "        scores = cross_val_score(clf, X_train, y_train, cv=cv, scoring='roc_auc')\n",
    "        scores_mean.append(scores.mean())\n",
    "        scores_std.append(scores.std())\n",
    "        print k, scores.mean(), scores.std(), scores.mean() - scores.std()\n",
    "\n",
    "    x = search_range\n",
    "    scores_mean = np.array(scores_mean)\n",
    "    scores_std = np.array(scores_std)\n",
    "    plt.plot(x, scores_mean)\n",
    "    plt.fill_between(x, scores_mean - scores_std, scores_mean + scores_std, alpha=0.5)\n",
    "    plt.show()"
   ]
  },
  {
   "cell_type": "code",
   "execution_count": 50,
   "metadata": {
    "collapsed": false
   },
   "outputs": [
    {
     "name": "stdout",
     "output_type": "stream",
     "text": [
      "5 0.588208827703 0.00521645449735 0.582992373206\n",
      "10 0.616215972415 0.00159759759229 0.614618374822\n",
      "15 0.646600886035 0.00158879276668 0.645012093269\n",
      "20 0.668125177445 0.0113370836495 0.656788093796\n",
      "25 0.671434083233 0.00390626047464 0.667527822758\n",
      "30 0.670759504421 0.000166130790428 0.67059337363\n",
      "35 0.673057572081 0.00674731690721 0.666310255174\n",
      "40 0.677524766168 0.00952722190469 0.667997544263\n",
      "45 0.681299771791 0.0156240526842 0.665675719107\n",
      "50 0.686227841679 0.0117716267282 0.674456214951\n",
      "55 0.683241877602 0.0129946145533 0.670247263048\n",
      "60 0.687683433867 0.0142593701167 0.67342406375\n",
      "65 0.685859109971 0.0103192392683 0.675539870703\n",
      "70 0.683798780778 0.00815590097287 0.675642879805\n"
     ]
    },
    {
     "data": {
      "image/png": "[encoded data removed]",
      "text/plain": [
       "<matplotlib.figure.Figure at 0x116890490>"
      ]
     },
     "metadata": {},
     "output_type": "display_data"
    }
   ],
   "source": [
    "do_kfold(2)"
   ]
  },
  {
   "cell_type": "code",
   "execution_count": 51,
   "metadata": {
    "collapsed": false
   },
   "outputs": [
    {
     "name": "stdout",
     "output_type": "stream",
     "text": [
      "5 0.583305092081 0.0241359286473 0.559169163434\n",
      "10 0.621715105212 0.0291870452967 0.592528059915\n",
      "15 0.648957300287 0.0202141429923 0.628743157294\n",
      "20 0.661129554816 0.0165107946906 0.644618760126\n",
      "25 0.668034461843 0.0120674787119 0.655966983131\n",
      "30 0.682157618261 0.0200644820377 0.662093136223\n",
      "35 0.685650612967 0.0123769769427 0.673273636025\n",
      "40 0.693369234749 0.00767344555233 0.685695789196\n",
      "45 0.693975832225 0.0097394641131 0.684236368111\n",
      "50 0.697654254002 0.0153524688249 0.682301785177\n",
      "55 0.694927390995 0.015263318015 0.67966407298\n",
      "60 0.693698231248 0.0179997972307 0.675698434017\n",
      "65 0.698868797274 0.0191140260943 0.67975477118\n",
      "70 0.70068880542 0.0198155687838 0.680873236636\n"
     ]
    },
    {
     "data": {
      "image/png": "[encoded data removed]",
      "text/plain": [
       "<matplotlib.figure.Figure at 0x117f4f6d0>"
      ]
     },
     "metadata": {},
     "output_type": "display_data"
    }
   ],
   "source": [
    "do_kfold(5)"
   ]
  },
  {
   "cell_type": "code",
   "execution_count": 52,
   "metadata": {
    "collapsed": false
   },
   "outputs": [
    {
     "name": "stdout",
     "output_type": "stream",
     "text": [
      "5 0.58919282978 0.0406930364169 0.548499793363\n",
      "10 0.635307791152 0.0410117636858 0.594296027466\n",
      "15 0.664338402968 0.0357636180677 0.6285747849\n",
      "20 0.66592659852 0.0415298633722 0.624396735148\n",
      "25 0.67891429659 0.0409086482798 0.63800564831\n",
      "30 0.686656476573 0.0449572491566 0.641699227417\n",
      "35 0.698717381589 0.0472085333237 0.651508848265\n",
      "40 0.70305932035 0.0395345084048 0.663524811945\n",
      "45 0.705782702534 0.0427609306934 0.66302177184\n",
      "50 0.707227640909 0.0434613348651 0.663766306043\n",
      "55 0.701102523268 0.0488836634559 0.652218859812\n",
      "60 0.703038015687 0.0508739184996 0.652164097187\n",
      "65 0.704554044789 0.051238270522 0.653315774267\n",
      "70 0.702393200132 0.054246604516 0.648146595616\n"
     ]
    },
    {
     "data": {
      "image/png": "[encoded data removed]",
      "text/plain": [
       "<matplotlib.figure.Figure at 0x10fefc3d0>"
      ]
     },
     "metadata": {},
     "output_type": "display_data"
    }
   ],
   "source": [
    "do_kfold(10)"
   ]
  }
 ],
 "metadata": {
  "kernelspec": {
   "display_name": "Python 2",
   "language": "python",
   "name": "python2"
  },
  "language_info": {
   "codemirror_mode": {
    "name": "ipython",
    "version": 2
   },
   "file_extension": ".py",
   "mimetype": "text/x-python",
   "name": "python",
   "nbconvert_exporter": "python",
   "pygments_lexer": "ipython2",
   "version": "2.7.10"
  }
 },
 "nbformat": 4,
 "nbformat_minor": 0
}
